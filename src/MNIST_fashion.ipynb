{
 "nbformat": 4,
 "nbformat_minor": 2,
 "metadata": {
  "language_info": {
   "name": "python",
   "codemirror_mode": {
    "name": "ipython",
    "version": 3
   },
   "version": "3.7.3-final"
  },
  "orig_nbformat": 2,
  "file_extension": ".py",
  "mimetype": "text/x-python",
  "name": "python",
  "npconvert_exporter": "python",
  "pygments_lexer": "ipython3",
  "version": 3,
  "kernelspec": {
   "name": "python37364bitconvolutionspipenva8f73b19fd0842f2a424165a75948091",
   "display_name": "Python 3.7.3 64-bit ('Convolutions': pipenv)"
  }
 },
 "cells": [
  {
   "cell_type": "code",
   "execution_count": 9,
   "metadata": {},
   "outputs": [],
   "source": [
    "import tensorflow as tf"
   ]
  },
  {
   "cell_type": "code",
   "execution_count": 10,
   "metadata": {},
   "outputs": [],
   "source": [
    "import matplotlib.pyplot as plt\n",
    "def showImage(img):\n",
    "    plt.grid(False)\n",
    "    plt.gray()\n",
    "    plt.axis('off')\n",
    "    plt.imshow(img)\n",
    "    plt.show()"
   ]
  },
  {
   "cell_type": "markdown",
   "execution_count": null,
   "metadata": {},
   "outputs": [],
   "source": [
    "### Load the model : "
   ]
  },
  {
   "cell_type": "code",
   "execution_count": 11,
   "metadata": {},
   "outputs": [
    {
     "data": {
      "image/png": "[encoded data removed]",
      "image/svg+xml": "<?xml version=\"1.0\" encoding=\"utf-8\" standalone=\"no\"?>\n<!DOCTYPE svg PUBLIC \"-//W3C//DTD SVG 1.1//EN\"\n  \"http://www.w3.org/Graphics/SVG/1.1/DTD/svg11.dtd\">\n<!-- Created with matplotlib (https://matplotlib.org/) -->\n<svg height=\"231.84pt\" version=\"1.1\" viewBox=\"0 0 231.84 231.84\" width=\"231.84pt\" xmlns=\"http://www.w3.org/2000/svg\" xmlns:xlink=\"http://www.w3.org/1999/xlink\">\n <defs>\n  <style type=\"text/css\">\n*{stroke-linecap:butt;stroke-linejoin:round;}\n  </style>\n </defs>\n <g id=\"figure_1\">\n  <g id=\"patch_1\">\n   <path d=\"M 0 231.84 \nL 231.84 231.84 \nL 231.84 0 \nL 0 0 \nz\n\" style=\"fill:none;\"/>\n  </g>\n  <g id=\"axes_1\">\n   <g clip-path=\"url(#pfc2734761c)\">\n    <image height=\"218\" id=\"image633a6f572a\" transform=\"scale(1 -1)translate(0 -218)\" width=\"218\" x=\"7.2\" xlink:href=\"data:image/png;base64,\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\" y=\"-6.64\"/>\n   </g>\n  </g>\n </g>\n <defs>\n  <clipPath id=\"pfc2734761c\">\n   <rect height=\"217.44\" width=\"217.44\" x=\"7.2\" y=\"7.2\"/>\n  </clipPath>\n </defs>\n</svg>\n",
      "text/plain": "<Figure size 432x288 with 1 Axes>"
     },
     "metadata": {
      "needs_background": "light"
     },
     "output_type": "display_data"
    }
   ],
   "source": [
    "mnist = tf.keras.datasets.fashion_mnist\n",
    "(training_images, training_labels), (test_images, test_labels) = mnist.load_data()\n",
    "showImage(training_images[0])\n"
   ]
  },
  {
   "cell_type": "code",
   "execution_count": 12,
   "metadata": {},
   "outputs": [
    {
     "name": "stdout",
     "output_type": "stream",
     "text": "Train on 60000 samples\nEpoch 1/5\n60000/60000 [==============================] - 62s 1ms/sample - loss: 0.4479 - accuracy: 0.8359\nEpoch 2/5\n60000/60000 [==============================] - 59s 986us/sample - loss: 0.2964 - accuracy: 0.8915\nEpoch 3/5\n60000/60000 [==============================] - 61s 1ms/sample - loss: 0.2506 - accuracy: 0.9078\nEpoch 4/5\n60000/60000 [==============================] - 62s 1ms/sample - loss: 0.2177 - accuracy: 0.9200\nEpoch 5/5\n60000/60000 [==============================] - 62s 1ms/sample - loss: 0.1931 - accuracy: 0.9287\n10000/10000 [==============================] - 3s 300us/sample - loss: 0.2516 - accuracy: 0.9070\nTest Loss : 0.25163541675806045, Test Accuracy : 90.70%\n"
    }
   ],
   "source": [
    "training_images = training_images.reshape(60000,28,28,1)\n",
    "training_images = training_images/255.0\n",
    "test_images = test_images.reshape(10000,28,28,1)\n",
    "test_images = test_images/255.0\n",
    "model = tf.keras.models.Sequential([\n",
    "    tf.keras.layers.Conv2D(64,(3,3), activation='relu', input_shape=(28,28,1)),\n",
    "    tf.keras.layers.MaxPooling2D(2,2),\n",
    "    tf.keras.layers.Conv2D(64,(3,3), activation='relu'),\n",
    "    tf.keras.layers.MaxPooling2D(2,2),\n",
    "    tf.keras.layers.Flatten(),\n",
    "    tf.keras.layers.Dense(128, activation='relu'),\n",
    "    tf.keras.layers.Dense(10, activation='softmax')\n",
    "])\n",
    "model.compile(optimizer='adam', loss='sparse_categorical_crossentropy', metrics=['accuracy'])\n",
    "model.fit(training_images,training_labels,epochs=5)\n",
    "test_loss,test_accuracy = model.evaluate(test_images, test_labels)\n",
    "print(f\"Test Loss : {test_loss}, Test Accuracy : {test_accuracy*100:.2f}%\")"
   ]
  }
 ]
}