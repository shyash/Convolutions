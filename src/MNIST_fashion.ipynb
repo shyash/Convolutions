{
 "nbformat": 4,
 "nbformat_minor": 2,
 "metadata": {
  "language_info": {
   "name": "python",
   "codemirror_mode": {
    "name": "ipython",
    "version": 3
   },
   "version": "3.7.3-final"
  },
  "orig_nbformat": 2,
  "file_extension": ".py",
  "mimetype": "text/x-python",
  "name": "python",
  "npconvert_exporter": "python",
  "pygments_lexer": "ipython3",
  "version": 3,
  "kernelspec": {
   "name": "python37364bitconvolutionspipenva8f73b19fd0842f2a424165a75948091",
   "display_name": "Python 3.7.3 64-bit ('Convolutions': pipenv)"
  }
 },
 "cells": [
  {
   "cell_type": "code",
   "execution_count": 13,
   "metadata": {},
   "outputs": [],
   "source": [
    "import tensorflow as tf"
   ]
  },
  {
   "cell_type": "code",
   "execution_count": null,
   "metadata": {},
   "outputs": [],
   "source": [
    "import matplotlib.pyplot as plt\n",
    "def showImage(img):\n",
    "    plt."
   ]
  },
  {
   "cell_type": "markdown",
   "execution_count": null,
   "metadata": {},
   "outputs": [],
   "source": [
    "### Load the model : "
   ]
  },
  {
   "cell_type": "code",
   "execution_count": 16,
   "metadata": {},
   "outputs": [],
   "source": [
    "mnist = tf.keras.datasets.mnist\n",
    "(training_images, training_labels), (test_images, test_labels) = mnist.load_data()\n"
   ]
  },
  {
   "cell_type": "code",
   "execution_count": 15,
   "metadata": {},
   "outputs": [
    {
     "name": "stdout",
     "output_type": "stream",
     "text": "Train on 60000 samples\nEpoch 1/5\n60000/60000 [==============================] - 6s 97us/sample - loss: 0.2634 - accuracy: 0.9245\nEpoch 2/5\n60000/60000 [==============================] - 6s 93us/sample - loss: 0.1136 - accuracy: 0.9666\nEpoch 3/5\n60000/60000 [==============================] - 6s 94us/sample - loss: 0.0771 - accuracy: 0.9768\nEpoch 4/5\n60000/60000 [==============================] - 6s 97us/sample - loss: 0.0581 - accuracy: 0.9825\nEpoch 5/5\n60000/60000 [==============================] - 6s 98us/sample - loss: 0.0450 - accuracy: 0.9861\n10000/10000 [==============================] - 1s 67us/sample - loss: 0.0756 - accuracy: 0.9762\nTest Loss : 0.07564739995636045, Test Accuracy : 97.620\n"
    }
   ],
   "source": [
    "training_images = training_images/255.0\n",
    "test_images = test_images/255.0\n",
    "model = tf.keras.models.Sequential([\n",
    "    tf.keras.layers.Flatten(),\n",
    "    tf.keras.layers.Dense(128, activation='relu'),\n",
    "    tf.keras.layers.Dense(10, activation='softmax')\n",
    "])\n",
    "model.compile(optimizer='adam', loss='sparse_categorical_crossentropy', metrics=['accuracy'])\n",
    "model.fit(training_images,training_labels,epochs=5)\n",
    "test_loss,test_accuracy = model.evaluate(test_images, test_labels)\n",
    "print(f\"Test Loss : {test_loss}, Test Accuracy : {test_accuracy*100:.3f}\")"
   ]
  }
 ]
}